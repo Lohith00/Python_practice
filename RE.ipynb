{
 "cells": [
  {
   "cell_type": "markdown",
   "metadata": {},
   "source": [
    "#### 2 ways to execute re"
   ]
  },
  {
   "cell_type": "code",
   "execution_count": 3,
   "metadata": {},
   "outputs": [
    {
     "name": "stdout",
     "output_type": "stream",
     "text": [
      "<re.Match object; span=(0, 3), match='abc'>\n",
      "<re.Match object; span=(16, 19), match='abc'>\n",
      "<re.Match object; span=(19, 22), match='abc'>\n"
     ]
    }
   ],
   "source": [
    "import re\n",
    "\n",
    "a='abcGFGHFV1232324abcabcIUYTREW1231'\n",
    "p=re.compile(r'abc')\n",
    "m=p.finditer(a)\n",
    "for i in m:\n",
    "    print(i)\n",
    "\n",
    "\n",
    "# second way to do it.\n",
    "\n",
    "m=re.finditer(r'abc',a)\n",
    "for i in m:\n",
    "    print(i)\n",
    "\n"
   ]
  },
  {
   "cell_type": "markdown",
   "metadata": {},
   "source": [
    "#### what is r in re.?\n",
    "\n",
    "#### it is called raw data.it is used to print all the strings."
   ]
  },
  {
   "cell_type": "code",
   "execution_count": 6,
   "metadata": {},
   "outputs": [
    {
     "name": "stdout",
     "output_type": "stream",
     "text": [
      "\thello\n"
     ]
    }
   ],
   "source": [
    "a='\\thello'\n",
    "print(a)"
   ]
  },
  {
   "cell_type": "code",
   "execution_count": 5,
   "metadata": {},
   "outputs": [
    {
     "name": "stdout",
     "output_type": "stream",
     "text": [
      "\\thello\n"
     ]
    }
   ],
   "source": [
    "a=(r'\\thello')\n",
    "print(a)"
   ]
  },
  {
   "cell_type": "markdown",
   "metadata": {},
   "source": [
    "#### RE Methods\n",
    "\n",
    "match()= is used to find if the pattern is at beginning of a string(it only return the pattern if it is in the beginning of a string).\n",
    "\n",
    "findall()= it returns all the matching patterns in a string.\n",
    "\n",
    "search()= it returns index of first matching pattern in a string.\n",
    "\n",
    "finditer()= it returns index of all the matching patterns in a string.  "
   ]
  },
  {
   "cell_type": "code",
   "execution_count": 10,
   "metadata": {},
   "outputs": [
    {
     "name": "stdout",
     "output_type": "stream",
     "text": [
      "None\n"
     ]
    }
   ],
   "source": [
    "import re \n",
    "\n",
    "a='123abcABC123ABCabc'\n",
    "p=re.compile(r'abc')  ##check for  both p to understand better\n",
    "# p=re.compile(r'123')\n",
    "m=p.match(a)\n",
    "print(m)"
   ]
  },
  {
   "cell_type": "code",
   "execution_count": 12,
   "metadata": {},
   "outputs": [
    {
     "name": "stdout",
     "output_type": "stream",
     "text": [
      "['123', '123']\n",
      "123\n",
      "123\n"
     ]
    }
   ],
   "source": [
    "import re\n",
    "a='123abcABC123ABCabc'\n",
    "p=re.compile(r'123')\n",
    "m=p.findall(a)\n",
    "print(m)\n",
    "for i in m:\n",
    "    print(i)\n"
   ]
  },
  {
   "cell_type": "code",
   "execution_count": 15,
   "metadata": {},
   "outputs": [
    {
     "name": "stdout",
     "output_type": "stream",
     "text": [
      "<re.Match object; span=(6, 9), match='ABC'>\n"
     ]
    }
   ],
   "source": [
    "import re\n",
    "a='123abcABC123ABCabc'\n",
    "p=re.compile(r'ABC')\n",
    "m=p.search(a)\n",
    "print(m)"
   ]
  },
  {
   "cell_type": "markdown",
   "metadata": {},
   "source": [
    "#### other methods that can be used for match object.\n",
    "\n",
    "####group()\n",
    "\n",
    "####span()\n",
    "\n",
    "####start()\n",
    "\n",
    "####end()"
   ]
  },
  {
   "cell_type": "code",
   "execution_count": 18,
   "metadata": {},
   "outputs": [
    {
     "name": "stdout",
     "output_type": "stream",
     "text": [
      "abc\n",
      "abc\n"
     ]
    }
   ],
   "source": [
    "import re\n",
    "\n",
    "a='123abcABC123ABCabc'\n",
    "p=re.compile(r'abc')\n",
    "m=p.finditer(a)\n",
    "for i in m:\n",
    "    print(i.group())    ##it return the actual string instead of index"
   ]
  },
  {
   "cell_type": "code",
   "execution_count": 19,
   "metadata": {},
   "outputs": [
    {
     "name": "stdout",
     "output_type": "stream",
     "text": [
      "(3, 6)\n",
      "(15, 18)\n"
     ]
    }
   ],
   "source": [
    "import re\n",
    "\n",
    "a='123abcABC123ABCabc'\n",
    "p=re.compile(r'abc')\n",
    "m=p.finditer(a)\n",
    "for i in m:\n",
    "    print(i.span())   ##returns  tuple of the match object."
   ]
  },
  {
   "cell_type": "code",
   "execution_count": 20,
   "metadata": {},
   "outputs": [
    {
     "name": "stdout",
     "output_type": "stream",
     "text": [
      "3\n",
      "15\n"
     ]
    }
   ],
   "source": [
    "import re\n",
    "\n",
    "a='123abcABC123ABCabc'\n",
    "p=re.compile(r'abc')\n",
    "m=p.finditer(a)\n",
    "for i in m:\n",
    "    print(i.start())  ##returns only the starting index of the match object."
   ]
  },
  {
   "cell_type": "code",
   "execution_count": 21,
   "metadata": {},
   "outputs": [
    {
     "name": "stdout",
     "output_type": "stream",
     "text": [
      "6\n",
      "18\n"
     ]
    }
   ],
   "source": [
    "import re\n",
    "\n",
    "a='123abcABC123ABCabc'\n",
    "p=re.compile(r'abc')\n",
    "m=p.finditer(a)\n",
    "for i in m:\n",
    "    print(i.end())  ##returns only the ending index of the match object."
   ]
  },
  {
   "cell_type": "markdown",
   "metadata": {},
   "source": [
    "#### Meta Characters\n",
    "\n",
    ". Any character (except newline character) \"he..o\"\n",
    "\n",
    "^ Starts with \"^hello\"\n",
    "\n",
    "\\$ Ends with \"world\\$\"\n",
    "\n",
    "* Zero or more occurrences \"aix*\"\n",
    "\n",
    "+ One or more occurrences \"aix+\"\n",
    "\n",
    "{ } Exactly the specified number of occurrences \"al{2}\"\n",
    "\n",
    "[] A set of characters \"[a-m]\"\n",
    "\n",
    "\\ Signals a special sequence (can also be used to escape special characters) \"\\d\"\n",
    "\n",
    "| Either or \"falls|stays\"\n",
    "\n",
    "( ) Capture and group"
   ]
  },
  {
   "cell_type": "code",
   "execution_count": 34,
   "metadata": {},
   "outputs": [],
   "source": [
    "import re\n",
    "\n",
    "a='abc123ABC.abcXYZ'\n",
    "# p=re.compile(r'.')\n",
    "# p=re.compile(r'\\.')      ##execute both the statements to know the difference\n",
    "# p=re.compile(r'^abc')\n",
    "# p=re.compile(r'^123')    ##execute both the statements to know the difference\n",
    "# p=re.compile(r'XYZ$')\n",
    "# p=re.compile(r'abc$')     ##execute both the statements to know the difference\n",
    "m=p.finditer(a)\n",
    "for i in m:\n",
    "    print(i)"
   ]
  },
  {
   "cell_type": "markdown",
   "metadata": {},
   "source": [
    "#### More Meta Characters\n",
    "\n",
    "\\d :Matches any decimal digit; this is equivalent to the class [0-9].\n",
    "\n",
    "\\D : Matches any non-digit character; this is equivalent to the class [^0-9].\n",
    "\n",
    "\\s : Matches any whitespace character;\n",
    "\n",
    "\\S : Matches any non-whitespace character;\n",
    "\n",
    "\\w : Matches any alphanumeric (word) character; this is equivalent to the class [a-zA-Z0-9_].\n",
    "\n",
    "\\W : Matches any non-alphanumeric character; this is equivalent to the class [^a-zA-Z0-9_].\n",
    "\n",
    "\\b Returns a match where the specified characters are at the beginning or at the end of a block r\"\\bain\" r\"ain\\b\"\n",
    "\n",
    "\\B Returns a match where the specified characters are present, but NOT at the beginning (or at the end) of a block r\"\\Bain\" r\"ain\\B\"\n",
    "\n",
    "\\A Returns a match if the specified characters are at the beginning of the string \"\\AThe\"\n",
    "\n",
    "\\Z Returns a match if the specified characters are at the end of the string \"Spain\\Z\""
   ]
  },
  {
   "cell_type": "code",
   "execution_count": 65,
   "metadata": {},
   "outputs": [
    {
     "name": "stdout",
     "output_type": "stream",
     "text": [
      "<re.Match object; span=(7, 8), match=' '>\n",
      "<re.Match object; span=(11, 12), match=' '>\n",
      "<re.Match object; span=(15, 16), match=' '>\n"
     ]
    }
   ],
   "source": [
    "import re\n",
    "\n",
    "a='abc_123 ABC XYZ hi_abc'\n",
    "\n",
    "# p=re.compile(r'\\d')\n",
    "# p=re.compile(r'\\D')                 ##execute both the statements to know the difference\n",
    "# p=re.compile(r'\\babc')\n",
    "# p=re.compile(r'\\Babc')            ##execute both the statements to know the difference\n",
    "# p=re.compile(r'\\s')\n",
    "# p=re.compile(r'\\S')                  ##execute both the statements to know the difference\n",
    "# p=re.compile(r'\\w')\n",
    "# p=re.compile(r'\\W')                 ##execute both the statements to know the difference\n",
    "m=p.finditer(a)\n",
    "for i in m:\n",
    "    print(i)"
   ]
  },
  {
   "cell_type": "markdown",
   "metadata": {},
   "source": [
    "#### SETS"
   ]
  },
  {
   "cell_type": "code",
   "execution_count": 72,
   "metadata": {},
   "outputs": [
    {
     "name": "stdout",
     "output_type": "stream",
     "text": [
      "<re.Match object; span=(0, 1), match='a'>\n",
      "<re.Match object; span=(1, 2), match='b'>\n",
      "<re.Match object; span=(2, 3), match='c'>\n",
      "<re.Match object; span=(3, 4), match='X'>\n",
      "<re.Match object; span=(4, 5), match='Y'>\n",
      "<re.Match object; span=(5, 6), match='Z'>\n",
      "<re.Match object; span=(6, 7), match='A'>\n",
      "<re.Match object; span=(7, 8), match='B'>\n",
      "<re.Match object; span=(8, 9), match='C'>\n",
      "<re.Match object; span=(9, 10), match='x'>\n",
      "<re.Match object; span=(10, 11), match='y'>\n",
      "<re.Match object; span=(11, 12), match='z'>\n",
      "<re.Match object; span=(12, 13), match='a'>\n",
      "<re.Match object; span=(13, 14), match='b'>\n",
      "<re.Match object; span=(14, 15), match='c'>\n",
      "<re.Match object; span=(15, 16), match='5'>\n",
      "<re.Match object; span=(16, 17), match='-'>\n",
      "<re.Match object; span=(17, 18), match='7'>\n",
      "<re.Match object; span=(18, 19), match='7'>\n",
      "<re.Match object; span=(19, 20), match='7'>\n"
     ]
    }
   ],
   "source": [
    "import re\n",
    "\n",
    "a='abcXYZABCxyzabc5-777'\n",
    "# p=re.compile(r'[abc]')\n",
    "# p=re.compile(r'[a-z]')\n",
    "# p=re.compile(r'[0-9]')\n",
    "# p=re.compile(r'[a-zA-Z0-9]')\n",
    "# p=re.compile(r'[a-z-A-Z0-9]')    ##to print '-' i have used '-' in range after 'z' \n",
    "m=p.finditer(a)\n",
    "for i in m:\n",
    "    print(i)"
   ]
  },
  {
   "cell_type": "markdown",
   "metadata": {},
   "source": [
    "#### Quantifiers\n",
    "\n",
    "*: 0 or more\n",
    "\n",
    "+: 1 or more\n",
    "\n",
    "?: 0 or 1, used when a character can be optional\n",
    "\n",
    "{4} : exact number\n",
    "\n",
    "{4,6} : range numbers (min, max)"
   ]
  },
  {
   "cell_type": "code",
   "execution_count": 79,
   "metadata": {},
   "outputs": [
    {
     "name": "stdout",
     "output_type": "stream",
     "text": [
      "<re.Match object; span=(0, 0), match=''>\n",
      "<re.Match object; span=(1, 1), match=''>\n",
      "<re.Match object; span=(2, 2), match=''>\n",
      "<re.Match object; span=(3, 3), match=''>\n",
      "<re.Match object; span=(4, 4), match=''>\n",
      "<re.Match object; span=(5, 5), match=''>\n",
      "<re.Match object; span=(6, 9), match='123'>\n",
      "<re.Match object; span=(9, 9), match=''>\n"
     ]
    }
   ],
   "source": [
    "my_string = 'hello_123'\n",
    "pattern = re.compile(r'\\d*')\n",
    "# pattern = re.compile(r'\\d')       ##execute both the statements to know the difference\n",
    "matches = pattern.finditer(my_string)\n",
    "for match in matches:\n",
    "    print(match)"
   ]
  },
  {
   "cell_type": "code",
   "execution_count": 80,
   "metadata": {},
   "outputs": [
    {
     "name": "stdout",
     "output_type": "stream",
     "text": [
      "<re.Match object; span=(6, 9), match='123'>\n"
     ]
    }
   ],
   "source": [
    "my_string = 'hello_123'\n",
    "pattern = re.compile(r'\\d+')\n",
    "# pattern = re.compile(r'\\d')       ##execute both the statements to know the difference\n",
    "matches = pattern.finditer(my_string)\n",
    "for match in matches:\n",
    "    print(match)"
   ]
  },
  {
   "cell_type": "code",
   "execution_count": 86,
   "metadata": {},
   "outputs": [
    {
     "name": "stdout",
     "output_type": "stream",
     "text": [
      "<re.Match object; span=(5, 7), match='_1'>\n",
      "<re.Match object; span=(7, 8), match='2'>\n",
      "<re.Match object; span=(8, 9), match='3'>\n"
     ]
    }
   ],
   "source": [
    "my_string = 'hello_123'\n",
    "# my_string = 'hello123'\n",
    "\n",
    "# pattern = re.compile(r'_\\d')\n",
    "pattern = re.compile(r'_?\\d')       ##execute both the statements to know the difference\n",
    "# pattern = re.compile(r'\\d')       ##execute both the statements to know the difference\n",
    "matches = pattern.finditer(my_string)\n",
    "for match in matches:\n",
    "    print(match)"
   ]
  },
  {
   "cell_type": "code",
   "execution_count": null,
   "metadata": {},
   "outputs": [],
   "source": [
    "my_string = 'hello_123'\n",
    "pattern = re.compile(r'\\d+')\n",
    "# pattern = re.compile(r'\\d')       ##execute both the statements to know the difference\n",
    "matches = pattern.finditer(my_string)\n",
    "for match in matches:\n",
    "    print(match)"
   ]
  }
 ],
 "metadata": {
  "kernelspec": {
   "display_name": "Python 3.10.6 64-bit",
   "language": "python",
   "name": "python3"
  },
  "language_info": {
   "codemirror_mode": {
    "name": "ipython",
    "version": 3
   },
   "file_extension": ".py",
   "mimetype": "text/x-python",
   "name": "python",
   "nbconvert_exporter": "python",
   "pygments_lexer": "ipython3",
   "version": "3.10.6"
  },
  "orig_nbformat": 4,
  "vscode": {
   "interpreter": {
    "hash": "916dbcbb3f70747c44a77c7bcd40155683ae19c65e1c03b4aa3499c5328201f1"
   }
  }
 },
 "nbformat": 4,
 "nbformat_minor": 2
}
