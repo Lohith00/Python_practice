{
 "cells": [
  {
   "cell_type": "code",
   "execution_count": 23,
   "metadata": {},
   "outputs": [
    {
     "data": {
      "text/plain": [
       "10"
      ]
     },
     "execution_count": 23,
     "metadata": {},
     "output_type": "execute_result"
    }
   ],
   "source": [
    "def nb_year(p0, percent, aug, p):\n",
    "    a=0\n",
    "\n",
    "    # for i in range(10):\n",
    "    #     p0=p0+p0*percent+aug\n",
    "    #     print(p0)\n",
    "    #     break\n",
    "\n",
    "    while(True):\n",
    "        p0=p0+p0*(percent / 100)+aug\n",
    "        if(p0==p or p0>p):\n",
    "            a+=1\n",
    "            return a\n",
    "        else:\n",
    "            a+=1\n",
    "\n",
    "\n",
    "\n",
    "\n",
    "\n",
    "\n",
    "\n",
    "\n",
    "# nb_year(1500, 0.05, 100, 5000)\n",
    "nb_year(1500000, 2.5, 10000, 2000000)\n",
    "# nb_year(1500000, 0.25, 1000, 2000000)"
   ]
  },
  {
   "cell_type": "code",
   "execution_count": 43,
   "metadata": {},
   "outputs": [
    {
     "data": {
      "text/plain": [
       "'9/28'"
      ]
     },
     "execution_count": 43,
     "metadata": {},
     "output_type": "execute_result"
    }
   ],
   "source": [
    "def printed_error(s):\n",
    "    numo=0\n",
    "    demo=len(s)\n",
    "    for i in s:\n",
    "        if i<'m' or i<='m':\n",
    "            pass\n",
    "        else:\n",
    "            numo+=1\n",
    "    return f\"{numo}/{demo}\"\n",
    "\n",
    "\n",
    "printed_error('aaaaabbbbbbbbjjjjjjzzzzzzzzz')"
   ]
  },
  {
   "cell_type": "code",
   "execution_count": 46,
   "metadata": {},
   "outputs": [
    {
     "data": {
      "text/plain": [
       "['aaaaabbbbbbbbjjjjjjzzzzzzzzz']"
      ]
     },
     "execution_count": 46,
     "metadata": {},
     "output_type": "execute_result"
    }
   ],
   "source": []
  },
  {
   "cell_type": "code",
   "execution_count": 39,
   "metadata": {},
   "outputs": [
    {
     "name": "stdout",
     "output_type": "stream",
     "text": [
      "hel0o\n",
      "hel00\n"
     ]
    }
   ],
   "source": [
    "print(\"hel{}o\".format(\"0\"))\n",
    "\n",
    "print(f\"hel{0}0\")"
   ]
  },
  {
   "cell_type": "code",
   "execution_count": 62,
   "metadata": {},
   "outputs": [
    {
     "data": {
      "text/plain": [
       "'3681'"
      ]
     },
     "execution_count": 62,
     "metadata": {},
     "output_type": "execute_result"
    }
   ],
   "source": [
    "def square_digits(num):\n",
    "    a=''\n",
    "    for i in str(num):\n",
    "        b=(str(int(i)**2))\n",
    "        a+=b\n",
    "    return a\n",
    "\n",
    "square_digits(69)"
   ]
  },
  {
   "cell_type": "code",
   "execution_count": 74,
   "metadata": {},
   "outputs": [
    {
     "data": {
      "text/plain": [
       "0"
      ]
     },
     "execution_count": 74,
     "metadata": {},
     "output_type": "execute_result"
    }
   ],
   "source": [
    "def positive_sum(arr):\n",
    "    p=[]\n",
    "    n=[]\n",
    "    if len(arr)>0:\n",
    "        for i in arr:\n",
    "\n",
    "            if i>0:\n",
    "                p.append(i)\n",
    "            else:\n",
    "                n.append(i)\n",
    "    else:\n",
    "        return 0\n",
    "\n",
    "    return sum(p)\n",
    "\n",
    "arr=[]\n",
    "positive_sum(arr)"
   ]
  },
  {
   "cell_type": "code",
   "execution_count": 90,
   "metadata": {},
   "outputs": [
    {
     "data": {
      "text/plain": [
       "[0]"
      ]
     },
     "execution_count": 90,
     "metadata": {},
     "output_type": "execute_result"
    }
   ],
   "source": [
    "def digitize(n):\n",
    "    a=[]\n",
    "    if n>0:\n",
    "        for i in str(n):\n",
    "            a.append(int(i))\n",
    "        a.reverse()\n",
    "    else:\n",
    "        return [0]\n",
    "\n",
    "    return a\n",
    "\n",
    "\n",
    "digitize(0)"
   ]
  },
  {
   "cell_type": "code",
   "execution_count": 97,
   "metadata": {},
   "outputs": [
    {
     "data": {
      "text/plain": [
       "'Draw!'"
      ]
     },
     "execution_count": 97,
     "metadata": {},
     "output_type": "execute_result"
    }
   ],
   "source": [
    "def rps(p1, p2):\n",
    "    if p1 == p2:\n",
    "        return 'Draw!'\n",
    "    elif (p1 == 'rock' and p2 == 'scissors') or (p1 == 'scissors' and p2 == 'paper') or (p1 == 'paper' and p2 == 'rock'):\n",
    "        return 'Player 1 won!'\n",
    "    else:\n",
    "        return 'Player 2 won!'\n",
    "\n",
    "\n",
    "    \n",
    "\n",
    "\n",
    "\n",
    "rps('rock','rock')"
   ]
  },
  {
   "cell_type": "code",
   "execution_count": 3,
   "metadata": {},
   "outputs": [
    {
     "data": {
      "text/plain": [
       "False"
      ]
     },
     "execution_count": 3,
     "metadata": {},
     "output_type": "execute_result"
    }
   ],
   "source": [
    "def check(seq, elem):\n",
    "    if elem in seq:\n",
    "        return True\n",
    "    else:\n",
    "        return False\n",
    "\n",
    "\n",
    "\n",
    "\n",
    "elem='2'\n",
    "seq=['a','b','x','f','1',1]\n",
    "check(seq,elem)\n",
    "\n",
    "    "
   ]
  },
  {
   "cell_type": "code",
   "execution_count": 8,
   "metadata": {},
   "outputs": [
    {
     "data": {
      "text/plain": [
       "[2, 4, 6]"
      ]
     },
     "execution_count": 8,
     "metadata": {},
     "output_type": "execute_result"
    }
   ],
   "source": [
    "def maps(a):\n",
    "    b=[]\n",
    "    for i in a:\n",
    "        b.append(i+i)\n",
    "    return b\n",
    "\n",
    "\n",
    "arr=[1,2,3]\n",
    "maps(arr)"
   ]
  },
  {
   "cell_type": "code",
   "execution_count": 23,
   "metadata": {},
   "outputs": [
    {
     "data": {
      "text/plain": [
       "'1 sheep...2 sheep...3 sheep...4 sheep...'"
      ]
     },
     "execution_count": 23,
     "metadata": {},
     "output_type": "execute_result"
    }
   ],
   "source": [
    "def count_sheep(n):\n",
    "    a=\"\"\n",
    "    for i in range(n):\n",
    "        a+=f'{i+1} sheep...'\n",
    "    return a\n",
    "\n",
    "\n",
    "\n",
    "count_sheep(4)\n"
   ]
  },
  {
   "cell_type": "code",
   "execution_count": 27,
   "metadata": {},
   "outputs": [
    {
     "data": {
      "text/plain": [
       "'DavidR does not play banjo'"
      ]
     },
     "execution_count": 27,
     "metadata": {},
     "output_type": "execute_result"
    }
   ],
   "source": [
    "def are_you_playing_banjo(name):\n",
    "    for i in name:\n",
    "        if i=='R' or i=='r':\n",
    "            return name+\" plays banjo\"\n",
    "        else:\n",
    "            return name+\" does not play banjo\"\n",
    "\n",
    "are_you_playing_banjo('DavidR')"
   ]
  },
  {
   "cell_type": "code",
   "execution_count": 40,
   "metadata": {},
   "outputs": [
    {
     "data": {
      "text/plain": [
       "'hi i am lohith'"
      ]
     },
     "execution_count": 40,
     "metadata": {},
     "output_type": "execute_result"
    }
   ],
   "source": [
    "def smash(words):\n",
    "    a=''\n",
    "    a=' '.join(words)\n",
    "    return a\n",
    "\n",
    "\n",
    "arr=['hi','i','am','lohith']\n",
    "smash(arr)"
   ]
  },
  {
   "cell_type": "code",
   "execution_count": 43,
   "metadata": {},
   "outputs": [
    {
     "data": {
      "text/plain": [
       "'enter valid input'"
      ]
     },
     "execution_count": 43,
     "metadata": {},
     "output_type": "execute_result"
    }
   ],
   "source": [
    "def boolean_to_string(b):\n",
    "    if b==True or b==False:\n",
    "        return str(b)\n",
    "    else:\n",
    "        return \"enter valid input\"\n",
    "\n",
    "\n",
    "\n",
    "\n",
    "boolean_to_string()\n",
    "    "
   ]
  },
  {
   "cell_type": "code",
   "execution_count": 191,
   "metadata": {},
   "outputs": [
    {
     "name": "stdout",
     "output_type": "stream",
     "text": [
      "GCAUUU\n"
     ]
    }
   ],
   "source": [
    "def dna_to_rna(dna):\n",
    "    \n",
    "    print(dna.replace('T','U'))\n",
    "\n",
    "\n",
    "\n",
    "dna_to_rna('GCATTT')\n"
   ]
  },
  {
   "cell_type": "code",
   "execution_count": 97,
   "metadata": {},
   "outputs": [
    {
     "name": "stdout",
     "output_type": "stream",
     "text": [
      "[2, 9, 5, 7, 10, 15]\n",
      "[2, 5, 9, 7, 10, 15]\n",
      "[2, 5, 7, 9, 10, 15]\n",
      "[2, 5, 7, 9, 10, 15]\n",
      "[2, 5, 7, 9, 10, 15]\n",
      "[2, 5, 7, 9, 10, 15]\n"
     ]
    }
   ],
   "source": [
    "a=[5,9,2,7,10,15]\n",
    "b=[]\n",
    "for i in range(len(a)):\n",
    "    for j in range(i,len(a)):\n",
    "        if a[j]<a[i]:\n",
    "            a[i],a[j]=a[j],a[i]\n",
    "    \n",
    "    print(a)\n",
    "\n",
    "            \n",
    "\n",
    "\n",
    "\n",
    "    \n",
    "    \n",
    "\n",
    "\n"
   ]
  },
  {
   "cell_type": "code",
   "execution_count": 111,
   "metadata": {},
   "outputs": [
    {
     "name": "stdout",
     "output_type": "stream",
     "text": [
      "1\n"
     ]
    }
   ],
   "source": [
    "def past(h, m, s):\n",
    "    h = \n",
    "    print(h)\n",
    "    # m = 60 * m\n",
    "    # s = h + m + s\n",
    "    # print(s)\n",
    "        \n",
    "\n",
    "\n",
    "past(0,1,1)"
   ]
  },
  {
   "cell_type": "markdown",
   "metadata": {},
   "source": [
    "*******9/3/23**************"
   ]
  },
  {
   "cell_type": "code",
   "execution_count": 189,
   "metadata": {},
   "outputs": [
    {
     "name": "stdout",
     "output_type": "stream",
     "text": [
      "double\n",
      "\n",
      "\n",
      "spaced\n",
      "\n",
      "words\n",
      "['elbuod', '', '', 'decaps', '', 'sdrow']\n"
     ]
    },
    {
     "data": {
      "text/plain": [
       "'elbuod   decaps  sdrow'"
      ]
     },
     "execution_count": 189,
     "metadata": {},
     "output_type": "execute_result"
    }
   ],
   "source": [
    "def reverse_words(string): \n",
    "    a=[]\n",
    "    b=' '\n",
    "    for word in string.split(' '):\n",
    "        print(word)\n",
    "        a.append(word[::-1])\n",
    "    print(a)\n",
    "    return b.join(a) \n",
    "reverse_words('double   spaced  words')"
   ]
  },
  {
   "cell_type": "code",
   "execution_count": 202,
   "metadata": {},
   "outputs": [
    {
     "name": "stdout",
     "output_type": "stream",
     "text": [
      "True\n",
      "False\n"
     ]
    }
   ],
   "source": [
    "import re\n",
    "def is_allowed_specific_char(string):\n",
    "    charRe = re.compile(r'[^a-zA-Z0-9]')\n",
    "    string = charRe.search(string)\n",
    "    return not bool(string)\n",
    "\n",
    "# is_allowed_specific_char(\"ABCDEFabcdef123450\")\n",
    "print(is_allowed_specific_char(\"ABCDEFabcdef123450\")) \n",
    "print(is_allowed_specific_char(\"*&%@#!}{\"))"
   ]
  },
  {
   "cell_type": "code",
   "execution_count": 220,
   "metadata": {},
   "outputs": [
    {
     "name": "stdout",
     "output_type": "stream",
     "text": [
      "[9, 9, 1, 2, 1, 1, 3, 1, 9, 9, 0, 0, 0, 0, 0, 0, 0, 0, 0, 0]\n"
     ]
    }
   ],
   "source": [
    "def move_zeros(lst):\n",
    "    a=[]\n",
    "    b=[]\n",
    "    for i in lst:\n",
    "        if i==0:\n",
    "            b.append(i)\n",
    "        else:\n",
    "            a.append(i)\n",
    "    a.extend(b)\n",
    "    print(a)\n",
    "\n",
    "\n",
    "\n",
    "\n",
    "move_zeros([9, 0, 0, 9, 1, 2, 0, 1, 0, 1, 0, 3, 0, 1, 9, 0, 0, 0, 0, 9])"
   ]
  },
  {
   "cell_type": "code",
   "execution_count": 261,
   "metadata": {},
   "outputs": [
    {
     "data": {
      "text/plain": [
       "True"
      ]
     },
     "execution_count": 261,
     "metadata": {},
     "output_type": "execute_result"
    }
   ],
   "source": [
    "import math\n",
    "\n",
    "def is_square(n):    \n",
    "\n",
    "    if n < 0:\n",
    "        return False\n",
    "\n",
    "    sqrt = math.sqrt(n)\n",
    "    \n",
    "    return sqrt.is_integer()\n",
    "\n",
    "is_square(0)"
   ]
  },
  {
   "cell_type": "code",
   "execution_count": 299,
   "metadata": {},
   "outputs": [
    {
     "name": "stdout",
     "output_type": "stream",
     "text": [
      "ATTGC\n"
     ]
    }
   ],
   "source": [
    "a = \"TAACG\"\n",
    "b =''.join([\"A\" if i == \"T\" else \"T\"  if i == \"A\" else \"G\" if i == \"C\" else \"C\" for i in a])\n",
    "print(b)"
   ]
  },
  {
   "cell_type": "code",
   "execution_count": 304,
   "metadata": {},
   "outputs": [
    {
     "data": {
      "text/plain": [
       "64"
      ]
     },
     "execution_count": 304,
     "metadata": {},
     "output_type": "execute_result"
    }
   ],
   "source": [
    "def row_sum_odd_numbers(n):\n",
    "    return n**3\n",
    "\n",
    "row_sum_odd_numbers(4)"
   ]
  },
  {
   "cell_type": "code",
   "execution_count": 321,
   "metadata": {},
   "outputs": [
    {
     "data": {
      "text/plain": [
       "'igpaysiayoolcay'"
      ]
     },
     "execution_count": 321,
     "metadata": {},
     "output_type": "execute_result"
    }
   ],
   "source": [
    "def pig_it(text):\n",
    "    a=''\n",
    "    for i in text.split(' '):\n",
    "        a+=i[1:]+i[0]+'ay'\n",
    "    return a\n",
    "\n",
    "\n",
    "\n",
    "pig_it('pig is cool')"
   ]
  }
 ],
 "metadata": {
  "kernelspec": {
   "display_name": "Python 3.10.6 64-bit",
   "language": "python",
   "name": "python3"
  },
  "language_info": {
   "codemirror_mode": {
    "name": "ipython",
    "version": 3
   },
   "file_extension": ".py",
   "mimetype": "text/x-python",
   "name": "python",
   "nbconvert_exporter": "python",
   "pygments_lexer": "ipython3",
   "version": "3.10.6"
  },
  "orig_nbformat": 4,
  "vscode": {
   "interpreter": {
    "hash": "916dbcbb3f70747c44a77c7bcd40155683ae19c65e1c03b4aa3499c5328201f1"
   }
  }
 },
 "nbformat": 4,
 "nbformat_minor": 2
}
